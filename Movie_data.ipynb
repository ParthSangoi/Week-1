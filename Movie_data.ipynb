{
  "nbformat": 4,
  "nbformat_minor": 0,
  "metadata": {
    "colab": {
      "name": "Movie data",
      "provenance": [],
      "collapsed_sections": [],
      "include_colab_link": true
    },
    "kernelspec": {
      "display_name": "Python 3",
      "name": "python3"
    }
  },
  "cells": [
    {
      "cell_type": "markdown",
      "metadata": {
        "id": "view-in-github",
        "colab_type": "text"
      },
      "source": [
        "<a href=\"https://colab.research.google.com/github/ParthSangoi/Week-1/blob/main/Movie_data.ipynb\" target=\"_parent\"><img src=\"https://colab.research.google.com/assets/colab-badge.svg\" alt=\"Open In Colab\"/></a>"
      ]
    },
    {
      "cell_type": "code",
      "metadata": {
        "id": "kQVi-vnJbtwo"
      },
      "source": [
        "import requests\n",
        "from bs4 import BeautifulSoup\n",
        "\n",
        "def get_movie_page():\n",
        "    movie_url = 'https://m.imdb.com/list/ls055592025/'\n",
        "    response = requests.get(movie_url)\n",
        "    if response.status_code != 200:\n",
        "        raise Exception('Failed to load page {}'.format(topic_url))\n",
        "    doc = BeautifulSoup(response.text, 'html.parser')\n",
        "    return doc"
      ],
      "execution_count": null,
      "outputs": []
    },
    {
      "cell_type": "code",
      "metadata": {
        "id": "Xs8O4iy-js_z"
      },
      "source": [
        ""
      ],
      "execution_count": null,
      "outputs": []
    },
    {
      "cell_type": "code",
      "metadata": {
        "id": "-XVp6FfCc7uF"
      },
      "source": [
        "doc = get_movie_page()"
      ],
      "execution_count": null,
      "outputs": []
    },
    {
      "cell_type": "code",
      "metadata": {
        "id": "4oKQ5_-dcQqj"
      },
      "source": [
        "def get_movie_titles(doc):\n",
        "    \n",
        "    movie_title_tags = doc.find_all('span', {'class': 'h4'})\n",
        "    movie_titles = []\n",
        "    for tag in movie_title_tags:\n",
        "        if len(tag)==2:\n",
        "            pass\n",
        "        movie_titles.append(tag.text.strip())\n",
        "    return movie_titles"
      ],
      "execution_count": null,
      "outputs": []
    },
    {
      "cell_type": "code",
      "metadata": {
        "id": "s7fHyRoHdEdg"
      },
      "source": [
        "movie_titles = get_movie_titles(doc)"
      ],
      "execution_count": null,
      "outputs": []
    },
    {
      "cell_type": "code",
      "metadata": {
        "id": "Fsu0N5AAdYtN",
        "colab": {
          "base_uri": "https://localhost:8080/"
        },
        "outputId": "25074bfe-f19a-4677-8224-d14f47fe1129"
      },
      "source": [
        "len(movie_titles)"
      ],
      "execution_count": null,
      "outputs": [
        {
          "output_type": "execute_result",
          "data": {
            "text/plain": [
              "200"
            ]
          },
          "metadata": {},
          "execution_count": 23
        }
      ]
    },
    {
      "cell_type": "code",
      "metadata": {
        "id": "BxbC2m7Cddol",
        "colab": {
          "base_uri": "https://localhost:8080/"
        },
        "outputId": "2239d6f5-7c7e-4446-d20d-89d622df66bf"
      },
      "source": [
        "movie_titles[:5]"
      ],
      "execution_count": null,
      "outputs": [
        {
          "output_type": "execute_result",
          "data": {
            "text/plain": [
              "['1.', 'The Godfather', '2.', 'The Shawshank Redemption', '3.']"
            ]
          },
          "metadata": {},
          "execution_count": 24
        }
      ]
    },
    {
      "cell_type": "code",
      "metadata": {
        "id": "h0Jb2tSAfFNJ"
      },
      "source": [
        "def get_movie_year(doc):\n",
        "    \n",
        "    movie_year_tags = doc.find_all('span', {'class': 'nowrap'})\n",
        "    movie_year = []\n",
        "    for tag in movie_year_tags:\n",
        "        movie_year.append(tag.text.strip())\n",
        "    return movie_year"
      ],
      "execution_count": null,
      "outputs": []
    },
    {
      "cell_type": "code",
      "metadata": {
        "id": "RIC5oPDifZvG"
      },
      "source": [
        "movie_years = get_movie_year(doc)"
      ],
      "execution_count": null,
      "outputs": []
    },
    {
      "cell_type": "code",
      "metadata": {
        "id": "xa-NODCRfexg",
        "colab": {
          "base_uri": "https://localhost:8080/"
        },
        "outputId": "675e27b3-852e-49c0-a714-23c8445c9092"
      },
      "source": [
        "len(movie_years)"
      ],
      "execution_count": null,
      "outputs": [
        {
          "output_type": "execute_result",
          "data": {
            "text/plain": [
              "200"
            ]
          },
          "metadata": {},
          "execution_count": 27
        }
      ]
    },
    {
      "cell_type": "code",
      "metadata": {
        "id": "vSFYrVbafpCN",
        "colab": {
          "base_uri": "https://localhost:8080/"
        },
        "outputId": "9ee3d224-80af-41fa-e69e-3242ab1cfe50"
      },
      "source": [
        "movie_years[:5]"
      ],
      "execution_count": null,
      "outputs": [
        {
          "output_type": "execute_result",
          "data": {
            "text/plain": [
              "['(1972)',\n",
              " 'R\\n|\\n175 min\\n|\\n\\nCrime, Drama',\n",
              " '(1994)',\n",
              " 'R\\n|\\n142 min\\n|\\n\\nDrama',\n",
              " '(1993)']"
            ]
          },
          "metadata": {},
          "execution_count": 28
        }
      ]
    },
    {
      "cell_type": "code",
      "metadata": {
        "id": "2xkHzqkNgIp0"
      },
      "source": [
        "def get_movie_duration(doc):\n",
        "    \n",
        "    movie_duration_tags = doc.find_all('span', {'class': 'runtime'})\n",
        "    movie_duration = []\n",
        "    for tag in movie_duration_tags:\n",
        "        movie_duration.append(tag.text.strip())\n",
        "    return movie_duration"
      ],
      "execution_count": null,
      "outputs": []
    },
    {
      "cell_type": "code",
      "metadata": {
        "id": "tz_VM0WTgaVb"
      },
      "source": [
        "movie_durations = get_movie_duration(doc)"
      ],
      "execution_count": null,
      "outputs": []
    },
    {
      "cell_type": "code",
      "metadata": {
        "id": "AwpNLU9ggi0T",
        "colab": {
          "base_uri": "https://localhost:8080/"
        },
        "outputId": "632fc1e5-eb19-4582-bb76-3528a66b862d"
      },
      "source": [
        "len(movie_durations)"
      ],
      "execution_count": null,
      "outputs": [
        {
          "output_type": "execute_result",
          "data": {
            "text/plain": [
              "100"
            ]
          },
          "metadata": {},
          "execution_count": 33
        }
      ]
    },
    {
      "cell_type": "code",
      "metadata": {
        "id": "7EiFvItJglol",
        "colab": {
          "base_uri": "https://localhost:8080/"
        },
        "outputId": "34b69683-4187-4d6f-fa9f-2625e7215db7"
      },
      "source": [
        "movie_durations[:5]"
      ],
      "execution_count": null,
      "outputs": [
        {
          "output_type": "execute_result",
          "data": {
            "text/plain": [
              "['175 min', '142 min', '195 min', '129 min', '102 min']"
            ]
          },
          "metadata": {},
          "execution_count": 34
        }
      ]
    },
    {
      "cell_type": "code",
      "metadata": {
        "id": "Wq8vG1Umg24P"
      },
      "source": [
        "def get_movie_genre(doc):\n",
        "    \n",
        "    movie_genre_tags = doc.find_all('span', {'class': 'genre'})\n",
        "    movie_genre = []\n",
        "    for tag in movie_genre_tags:\n",
        "        movie_genre.append(tag.text.strip())\n",
        "    return movie_genre"
      ],
      "execution_count": null,
      "outputs": []
    },
    {
      "cell_type": "code",
      "metadata": {
        "id": "bTzSzlMBhNoO"
      },
      "source": [
        "movie_genres = get_movie_genre(doc)"
      ],
      "execution_count": null,
      "outputs": []
    },
    {
      "cell_type": "code",
      "metadata": {
        "id": "OAGsyqFEhSQ-",
        "colab": {
          "base_uri": "https://localhost:8080/"
        },
        "outputId": "175fa1ca-795c-4b1b-ef6c-a7d4a3786113"
      },
      "source": [
        "len(movie_genres)"
      ],
      "execution_count": null,
      "outputs": [
        {
          "output_type": "execute_result",
          "data": {
            "text/plain": [
              "100"
            ]
          },
          "metadata": {},
          "execution_count": 38
        }
      ]
    },
    {
      "cell_type": "code",
      "metadata": {
        "id": "hdJ0gE6qhWmW",
        "colab": {
          "base_uri": "https://localhost:8080/"
        },
        "outputId": "3ee5fb01-861e-43cc-fcdd-ff40181133e6"
      },
      "source": [
        "movie_genres[:5]"
      ],
      "execution_count": null,
      "outputs": [
        {
          "output_type": "execute_result",
          "data": {
            "text/plain": [
              "['Crime, Drama',\n",
              " 'Drama',\n",
              " 'Biography, Drama, History',\n",
              " 'Biography, Drama, Sport',\n",
              " 'Drama, Romance, War']"
            ]
          },
          "metadata": {},
          "execution_count": 39
        }
      ]
    },
    {
      "cell_type": "code",
      "metadata": {
        "id": "PUlhLzlWhcsI"
      },
      "source": [
        "def get_movie_rating(doc):\n",
        "    \n",
        "    movie_rating_tags = doc.find_all('span', {'class': 'imdb-rating'})\n",
        "    movie_rating = []\n",
        "    for tag in movie_rating_tags:\n",
        "        movie_rating.append(tag.text.strip())\n",
        "    return movie_rating"
      ],
      "execution_count": null,
      "outputs": []
    },
    {
      "cell_type": "code",
      "metadata": {
        "id": "Co853NSNh2sO"
      },
      "source": [
        "movie_ratings=get_movie_rating(doc)"
      ],
      "execution_count": null,
      "outputs": []
    },
    {
      "cell_type": "code",
      "metadata": {
        "id": "Q9LOwhWBh_Ec",
        "colab": {
          "base_uri": "https://localhost:8080/"
        },
        "outputId": "d77fc92e-b007-42c3-d4bf-6e996ebace94"
      },
      "source": [
        "len(movie_ratings)"
      ],
      "execution_count": null,
      "outputs": [
        {
          "output_type": "execute_result",
          "data": {
            "text/plain": [
              "100"
            ]
          },
          "metadata": {},
          "execution_count": 42
        }
      ]
    },
    {
      "cell_type": "code",
      "metadata": {
        "id": "qN4YyuBsiC5Q",
        "colab": {
          "base_uri": "https://localhost:8080/"
        },
        "outputId": "8302a879-52f7-4677-8427-651bd1691250"
      },
      "source": [
        "movie_ratings[:5]"
      ],
      "execution_count": null,
      "outputs": [
        {
          "output_type": "execute_result",
          "data": {
            "text/plain": [
              "['9.2', '9.3', '8.9', '8.2', '8.5']"
            ]
          },
          "metadata": {},
          "execution_count": 44
        }
      ]
    }
  ]
}