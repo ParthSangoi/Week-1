{
  "nbformat": 4,
  "nbformat_minor": 0,
  "metadata": {
    "colab": {
      "name": "Copy of Movie data",
      "provenance": [],
      "collapsed_sections": [],
      "include_colab_link": true
    },
    "kernelspec": {
      "display_name": "Python 3",
      "name": "python3"
    }
  },
  "cells": [
    {
      "cell_type": "markdown",
      "metadata": {
        "id": "view-in-github",
        "colab_type": "text"
      },
      "source": [
        "<a href=\"https://colab.research.google.com/github/ParthSangoi/Week-1/blob/main/week-3.ipynb\" target=\"_parent\"><img src=\"https://colab.research.google.com/assets/colab-badge.svg\" alt=\"Open In Colab\"/></a>"
      ]
    },
    {
      "cell_type": "code",
      "metadata": {
        "id": "kQVi-vnJbtwo"
      },
      "source": [
        "import requests\n",
        "from bs4 import BeautifulSoup\n",
        "\n",
        "def get_movie_page():\n",
        "    movie_url = 'https://m.imdb.com/list/ls055592025/'\n",
        "    response = requests.get(movie_url)\n",
        "    if response.status_code != 200:\n",
        "        raise Exception('Failed to load page {}'.format(movie_url))\n",
        "    doc = BeautifulSoup(response.text, 'html.parser')\n",
        "    return doc"
      ],
      "execution_count": null,
      "outputs": []
    },
    {
      "cell_type": "code",
      "metadata": {
        "id": "-XVp6FfCc7uF"
      },
      "source": [
        "doc = get_movie_page()"
      ],
      "execution_count": null,
      "outputs": []
    },
    {
      "cell_type": "code",
      "metadata": {
        "id": "4oKQ5_-dcQqj"
      },
      "source": [
        "def get_movie_titles(doc):\n",
        "    \n",
        "    movie_rank_title_tags = doc.find_all('span', {'class': 'h4'})\n",
        "    movie_rank_titles = []\n",
        "    movie_titles=[]\n",
        "    for tag in movie_rank_title_tags:\n",
        "        movie_rank_titles.append(tag.text.strip())\n",
        "    for title in movie_rank_titles[1::2]:\n",
        "        movie_titles.append(title)\n",
        "    return movie_titles"
      ],
      "execution_count": null,
      "outputs": []
    },
    {
      "cell_type": "code",
      "metadata": {
        "id": "s7fHyRoHdEdg"
      },
      "source": [
        "movie_titles = get_movie_titles(doc)"
      ],
      "execution_count": null,
      "outputs": []
    },
    {
      "cell_type": "code",
      "metadata": {
        "id": "Fsu0N5AAdYtN",
        "colab": {
          "base_uri": "https://localhost:8080/"
        },
        "outputId": "1852b4c1-33e3-4d22-c528-6b06751b4199"
      },
      "source": [
        "len(movie_titles)"
      ],
      "execution_count": null,
      "outputs": [
        {
          "output_type": "execute_result",
          "data": {
            "text/plain": [
              "100"
            ]
          },
          "metadata": {},
          "execution_count": 15
        }
      ]
    },
    {
      "cell_type": "code",
      "metadata": {
        "id": "BxbC2m7Cddol",
        "colab": {
          "base_uri": "https://localhost:8080/"
        },
        "outputId": "cd9c7bc0-6f9d-454e-af65-5307defa95d8"
      },
      "source": [
        "movie_titles[:5]"
      ],
      "execution_count": null,
      "outputs": [
        {
          "output_type": "execute_result",
          "data": {
            "text/plain": [
              "['The Godfather',\n",
              " 'The Shawshank Redemption',\n",
              " \"Schindler's List\",\n",
              " 'Raging Bull',\n",
              " 'Casablanca']"
            ]
          },
          "metadata": {},
          "execution_count": 16
        }
      ]
    },
    {
      "cell_type": "code",
      "metadata": {
        "id": "e5ARL9-iwYKj"
      },
      "source": [
        "def get_movie_rank(doc):\n",
        "    \n",
        "    movie_rank_title_tags = doc.find_all('span', {'class': 'h4'})\n",
        "    movie_rank_titles = []\n",
        "    movie_rank=[]\n",
        "    for tag in movie_rank_title_tags:\n",
        "        movie_rank_titles.append(tag.text.strip())\n",
        "    for rank in movie_rank_titles[0::2]:\n",
        "        movie_rank.append(rank)\n",
        "    return movie_rank"
      ],
      "execution_count": 50,
      "outputs": []
    },
    {
      "cell_type": "code",
      "metadata": {
        "id": "5Hb0Mfg2woQY"
      },
      "source": [
        "movie_ranks=get_movie_rank(doc)"
      ],
      "execution_count": 51,
      "outputs": []
    },
    {
      "cell_type": "code",
      "metadata": {
        "colab": {
          "base_uri": "https://localhost:8080/"
        },
        "id": "8pxRCfi9wwK3",
        "outputId": "df7e980f-c650-483f-bde6-1c548439052a"
      },
      "source": [
        "len(movie_ranks)"
      ],
      "execution_count": 52,
      "outputs": [
        {
          "output_type": "execute_result",
          "data": {
            "text/plain": [
              "100"
            ]
          },
          "metadata": {},
          "execution_count": 52
        }
      ]
    },
    {
      "cell_type": "code",
      "metadata": {
        "colab": {
          "base_uri": "https://localhost:8080/"
        },
        "id": "R8xqYV5Bw1IR",
        "outputId": "52d4d648-d2c0-4e44-a8f0-5c727a3faf15"
      },
      "source": [
        "movie_ranks[:5]"
      ],
      "execution_count": 53,
      "outputs": [
        {
          "output_type": "execute_result",
          "data": {
            "text/plain": [
              "['1.', '2.', '3.', '4.', '5.']"
            ]
          },
          "metadata": {},
          "execution_count": 53
        }
      ]
    },
    {
      "cell_type": "code",
      "metadata": {
        "id": "h0Jb2tSAfFNJ"
      },
      "source": [
        "def get_movie_year(doc):\n",
        "    \n",
        "    movie_year_genre_tags = doc.find_all('span', {'class': 'nowrap'})\n",
        "    movie_year_genre = []\n",
        "    movie_year=[]\n",
        "    for tag in movie_year_genre_tags:\n",
        "        movie_year_genre.append(tag.text.strip())\n",
        "    for year in movie_year_genre[0::2]:\n",
        "        movie_year.append(year)\n",
        "    return movie_year"
      ],
      "execution_count": 56,
      "outputs": []
    },
    {
      "cell_type": "code",
      "metadata": {
        "id": "RIC5oPDifZvG"
      },
      "source": [
        "movie_years = get_movie_year(doc)"
      ],
      "execution_count": 57,
      "outputs": []
    },
    {
      "cell_type": "code",
      "metadata": {
        "id": "xa-NODCRfexg",
        "colab": {
          "base_uri": "https://localhost:8080/"
        },
        "outputId": "74edbffa-3058-4ea7-eacf-f0b17ea58ff7"
      },
      "source": [
        "len(movie_years)"
      ],
      "execution_count": null,
      "outputs": [
        {
          "output_type": "execute_result",
          "data": {
            "text/plain": [
              "100"
            ]
          },
          "metadata": {},
          "execution_count": 19
        }
      ]
    },
    {
      "cell_type": "code",
      "metadata": {
        "id": "vSFYrVbafpCN",
        "colab": {
          "base_uri": "https://localhost:8080/"
        },
        "outputId": "47ff9bfa-a9a5-4cc7-8be9-daa42f2a3061"
      },
      "source": [
        "movie_years[:5]"
      ],
      "execution_count": null,
      "outputs": [
        {
          "output_type": "execute_result",
          "data": {
            "text/plain": [
              "['(1972)', '(1994)', '(1993)', '(1980)', '(1942)']"
            ]
          },
          "metadata": {},
          "execution_count": 20
        }
      ]
    },
    {
      "cell_type": "code",
      "metadata": {
        "id": "2xkHzqkNgIp0"
      },
      "source": [
        "def get_movie_duration(doc):\n",
        "    \n",
        "    movie_duration_tags = doc.find_all('span', {'class': 'runtime'})\n",
        "    movie_duration = []\n",
        "    for tag in movie_duration_tags:\n",
        "        movie_duration.append(tag.text.strip())\n",
        "    return movie_duration"
      ],
      "execution_count": null,
      "outputs": []
    },
    {
      "cell_type": "code",
      "metadata": {
        "id": "tz_VM0WTgaVb"
      },
      "source": [
        "movie_durations = get_movie_duration(doc)"
      ],
      "execution_count": null,
      "outputs": []
    },
    {
      "cell_type": "code",
      "metadata": {
        "id": "AwpNLU9ggi0T",
        "colab": {
          "base_uri": "https://localhost:8080/"
        },
        "outputId": "1e7d4d69-ad32-4384-8db1-edab7c6335e0"
      },
      "source": [
        "len(movie_durations)"
      ],
      "execution_count": null,
      "outputs": [
        {
          "output_type": "execute_result",
          "data": {
            "text/plain": [
              "100"
            ]
          },
          "metadata": {},
          "execution_count": 23
        }
      ]
    },
    {
      "cell_type": "code",
      "metadata": {
        "id": "7EiFvItJglol",
        "colab": {
          "base_uri": "https://localhost:8080/"
        },
        "outputId": "49bf09ad-a300-43a9-8952-9e0f753b5e8b"
      },
      "source": [
        "movie_durations[:5]"
      ],
      "execution_count": null,
      "outputs": [
        {
          "output_type": "execute_result",
          "data": {
            "text/plain": [
              "['175 min', '142 min', '195 min', '129 min', '102 min']"
            ]
          },
          "metadata": {},
          "execution_count": 24
        }
      ]
    },
    {
      "cell_type": "code",
      "metadata": {
        "id": "Wq8vG1Umg24P"
      },
      "source": [
        "def get_movie_genre(doc):\n",
        "    \n",
        "    movie_genre_tags = doc.find_all('span', {'class': 'genre'})\n",
        "    movie_genre = []\n",
        "    for tag in movie_genre_tags:\n",
        "        movie_genre.append(tag.text.strip())\n",
        "    return movie_genre"
      ],
      "execution_count": null,
      "outputs": []
    },
    {
      "cell_type": "code",
      "metadata": {
        "id": "bTzSzlMBhNoO"
      },
      "source": [
        "movie_genres = get_movie_genre(doc)"
      ],
      "execution_count": null,
      "outputs": []
    },
    {
      "cell_type": "code",
      "metadata": {
        "id": "OAGsyqFEhSQ-",
        "colab": {
          "base_uri": "https://localhost:8080/"
        },
        "outputId": "1c960f06-f7ae-468d-aa59-239ad2496e4f"
      },
      "source": [
        "len(movie_genres)"
      ],
      "execution_count": null,
      "outputs": [
        {
          "output_type": "execute_result",
          "data": {
            "text/plain": [
              "100"
            ]
          },
          "metadata": {},
          "execution_count": 27
        }
      ]
    },
    {
      "cell_type": "code",
      "metadata": {
        "id": "hdJ0gE6qhWmW",
        "colab": {
          "base_uri": "https://localhost:8080/"
        },
        "outputId": "81a88dbd-d16f-458c-87b6-bd4947f85b92"
      },
      "source": [
        "movie_genres[:5]"
      ],
      "execution_count": null,
      "outputs": [
        {
          "output_type": "execute_result",
          "data": {
            "text/plain": [
              "['Crime, Drama',\n",
              " 'Drama',\n",
              " 'Biography, Drama, History',\n",
              " 'Biography, Drama, Sport',\n",
              " 'Drama, Romance, War']"
            ]
          },
          "metadata": {},
          "execution_count": 28
        }
      ]
    },
    {
      "cell_type": "code",
      "metadata": {
        "id": "PUlhLzlWhcsI"
      },
      "source": [
        "def get_movie_rating(doc):\n",
        "    \n",
        "    movie_rating_tags = doc.find_all('span', {'class': 'imdb-rating'})\n",
        "    movie_rating = []\n",
        "    for tag in movie_rating_tags:\n",
        "        movie_rating.append(tag.text.strip())\n",
        "    return movie_rating"
      ],
      "execution_count": null,
      "outputs": []
    },
    {
      "cell_type": "code",
      "metadata": {
        "id": "Co853NSNh2sO"
      },
      "source": [
        "movie_ratings=get_movie_rating(doc)"
      ],
      "execution_count": null,
      "outputs": []
    },
    {
      "cell_type": "code",
      "metadata": {
        "id": "Q9LOwhWBh_Ec",
        "colab": {
          "base_uri": "https://localhost:8080/"
        },
        "outputId": "50c32b5c-4569-4ee9-cb0a-cde715733eda"
      },
      "source": [
        "len(movie_ratings)"
      ],
      "execution_count": null,
      "outputs": [
        {
          "output_type": "execute_result",
          "data": {
            "text/plain": [
              "100"
            ]
          },
          "metadata": {},
          "execution_count": 31
        }
      ]
    },
    {
      "cell_type": "code",
      "metadata": {
        "id": "qN4YyuBsiC5Q",
        "colab": {
          "base_uri": "https://localhost:8080/"
        },
        "outputId": "352550ed-63ba-4a26-d737-c91756bcbff6"
      },
      "source": [
        "movie_ratings[:5]"
      ],
      "execution_count": null,
      "outputs": [
        {
          "output_type": "execute_result",
          "data": {
            "text/plain": [
              "['9.2', '9.3', '8.9', '8.2', '8.5']"
            ]
          },
          "metadata": {},
          "execution_count": 32
        }
      ]
    },
    {
      "cell_type": "code",
      "metadata": {
        "id": "z_xEJ0s6mTAB"
      },
      "source": [
        "def get_movie_certificate(doc):\n",
        "    \n",
        "    movie_certi_tags = doc.find_all('span', {'class': 'certificate'})\n",
        "    movie_certi = []\n",
        "    for tag in movie_certi_tags:\n",
        "        movie_certi.append(tag.text.strip())\n",
        "    return movie_certi"
      ],
      "execution_count": null,
      "outputs": []
    },
    {
      "cell_type": "code",
      "metadata": {
        "id": "3RY4HJgmmgJy"
      },
      "source": [
        "movie_certificates=get_movie_certificate(doc)"
      ],
      "execution_count": null,
      "outputs": []
    },
    {
      "cell_type": "code",
      "metadata": {
        "id": "pf0sr269nFyz",
        "colab": {
          "base_uri": "https://localhost:8080/"
        },
        "outputId": "a9ae59cc-0c88-47e2-b529-540b26f27c89"
      },
      "source": [
        "len(movie_certificates)"
      ],
      "execution_count": null,
      "outputs": [
        {
          "output_type": "execute_result",
          "data": {
            "text/plain": [
              "100"
            ]
          },
          "metadata": {},
          "execution_count": 35
        }
      ]
    },
    {
      "cell_type": "code",
      "metadata": {
        "id": "lvggl7yGnLmt",
        "colab": {
          "base_uri": "https://localhost:8080/"
        },
        "outputId": "d9979e4c-6006-403d-ced0-b34ab1e37e0b"
      },
      "source": [
        "movie_certificates[:5]"
      ],
      "execution_count": null,
      "outputs": [
        {
          "output_type": "execute_result",
          "data": {
            "text/plain": [
              "['R', 'R', 'R', 'R', 'PG']"
            ]
          },
          "metadata": {},
          "execution_count": 36
        }
      ]
    },
    {
      "cell_type": "code",
      "metadata": {
        "id": "MElfJx7bo_Jc"
      },
      "source": [
        "def scrape_movies():\n",
        "    import pandas as pd\n",
        "    movie_url = 'https://m.imdb.com/list/ls055592025/'\n",
        "    response = requests.get(movie_url)\n",
        "    if response.status_code != 200:\n",
        "        raise Exception('Failed to load page {}'.format(movie_url))\n",
        "    doc = BeautifulSoup(response.text, 'html.parser')\n",
        "    movies_dict = {\n",
        "        'Rank': get_movie_rank(doc),\n",
        "        'Title': get_movie_titles(doc),\n",
        "        'Year': get_movie_year(doc),\n",
        "        'Duration': get_movie_duration(doc),\n",
        "        'Certificate': get_movie_certificate(doc),\n",
        "        'Genre': get_movie_genre(doc),\n",
        "        'Rating': get_movie_rating(doc)\n",
        "    }\n",
        "    return pd.DataFrame(movies_dict)"
      ],
      "execution_count": 58,
      "outputs": []
    },
    {
      "cell_type": "code",
      "metadata": {
        "colab": {
          "base_uri": "https://localhost:8080/",
          "height": 419
        },
        "id": "xEoAN7qevbBL",
        "outputId": "c541458c-7912-4e18-902b-d98302d06ef4"
      },
      "source": [
        "scrape_movies()"
      ],
      "execution_count": 59,
      "outputs": [
        {
          "output_type": "execute_result",
          "data": {
            "text/html": [
              "<div>\n",
              "<style scoped>\n",
              "    .dataframe tbody tr th:only-of-type {\n",
              "        vertical-align: middle;\n",
              "    }\n",
              "\n",
              "    .dataframe tbody tr th {\n",
              "        vertical-align: top;\n",
              "    }\n",
              "\n",
              "    .dataframe thead th {\n",
              "        text-align: right;\n",
              "    }\n",
              "</style>\n",
              "<table border=\"1\" class=\"dataframe\">\n",
              "  <thead>\n",
              "    <tr style=\"text-align: right;\">\n",
              "      <th></th>\n",
              "      <th>Rank</th>\n",
              "      <th>Title</th>\n",
              "      <th>Year</th>\n",
              "      <th>Duration</th>\n",
              "      <th>Certificate</th>\n",
              "      <th>Genre</th>\n",
              "      <th>Rating</th>\n",
              "    </tr>\n",
              "  </thead>\n",
              "  <tbody>\n",
              "    <tr>\n",
              "      <th>0</th>\n",
              "      <td>1.</td>\n",
              "      <td>The Godfather</td>\n",
              "      <td>(1972)</td>\n",
              "      <td>175 min</td>\n",
              "      <td>R</td>\n",
              "      <td>Crime, Drama</td>\n",
              "      <td>9.2</td>\n",
              "    </tr>\n",
              "    <tr>\n",
              "      <th>1</th>\n",
              "      <td>2.</td>\n",
              "      <td>The Shawshank Redemption</td>\n",
              "      <td>(1994)</td>\n",
              "      <td>142 min</td>\n",
              "      <td>R</td>\n",
              "      <td>Drama</td>\n",
              "      <td>9.3</td>\n",
              "    </tr>\n",
              "    <tr>\n",
              "      <th>2</th>\n",
              "      <td>3.</td>\n",
              "      <td>Schindler's List</td>\n",
              "      <td>(1993)</td>\n",
              "      <td>195 min</td>\n",
              "      <td>R</td>\n",
              "      <td>Biography, Drama, History</td>\n",
              "      <td>8.9</td>\n",
              "    </tr>\n",
              "    <tr>\n",
              "      <th>3</th>\n",
              "      <td>4.</td>\n",
              "      <td>Raging Bull</td>\n",
              "      <td>(1980)</td>\n",
              "      <td>129 min</td>\n",
              "      <td>R</td>\n",
              "      <td>Biography, Drama, Sport</td>\n",
              "      <td>8.2</td>\n",
              "    </tr>\n",
              "    <tr>\n",
              "      <th>4</th>\n",
              "      <td>5.</td>\n",
              "      <td>Casablanca</td>\n",
              "      <td>(1942)</td>\n",
              "      <td>102 min</td>\n",
              "      <td>PG</td>\n",
              "      <td>Drama, Romance, War</td>\n",
              "      <td>8.5</td>\n",
              "    </tr>\n",
              "    <tr>\n",
              "      <th>...</th>\n",
              "      <td>...</td>\n",
              "      <td>...</td>\n",
              "      <td>...</td>\n",
              "      <td>...</td>\n",
              "      <td>...</td>\n",
              "      <td>...</td>\n",
              "      <td>...</td>\n",
              "    </tr>\n",
              "    <tr>\n",
              "      <th>95</th>\n",
              "      <td>96.</td>\n",
              "      <td>Rear Window</td>\n",
              "      <td>(1954)</td>\n",
              "      <td>112 min</td>\n",
              "      <td>PG</td>\n",
              "      <td>Mystery, Thriller</td>\n",
              "      <td>8.5</td>\n",
              "    </tr>\n",
              "    <tr>\n",
              "      <th>96</th>\n",
              "      <td>97.</td>\n",
              "      <td>The Third Man</td>\n",
              "      <td>(1949)</td>\n",
              "      <td>93 min</td>\n",
              "      <td>Approved</td>\n",
              "      <td>Film-Noir, Mystery, Thriller</td>\n",
              "      <td>8.1</td>\n",
              "    </tr>\n",
              "    <tr>\n",
              "      <th>97</th>\n",
              "      <td>98.</td>\n",
              "      <td>Rebel Without a Cause</td>\n",
              "      <td>(1955)</td>\n",
              "      <td>111 min</td>\n",
              "      <td>PG-13</td>\n",
              "      <td>Drama</td>\n",
              "      <td>7.7</td>\n",
              "    </tr>\n",
              "    <tr>\n",
              "      <th>98</th>\n",
              "      <td>99.</td>\n",
              "      <td>North by Northwest</td>\n",
              "      <td>(1959)</td>\n",
              "      <td>136 min</td>\n",
              "      <td>Approved</td>\n",
              "      <td>Adventure, Mystery, Thriller</td>\n",
              "      <td>8.3</td>\n",
              "    </tr>\n",
              "    <tr>\n",
              "      <th>99</th>\n",
              "      <td>100.</td>\n",
              "      <td>Yankee Doodle Dandy</td>\n",
              "      <td>(1942)</td>\n",
              "      <td>126 min</td>\n",
              "      <td>Passed</td>\n",
              "      <td>Biography, Drama, Music</td>\n",
              "      <td>7.7</td>\n",
              "    </tr>\n",
              "  </tbody>\n",
              "</table>\n",
              "<p>100 rows × 7 columns</p>\n",
              "</div>"
            ],
            "text/plain": [
              "    Rank                     Title  ...                         Genre Rating\n",
              "0     1.             The Godfather  ...                  Crime, Drama    9.2\n",
              "1     2.  The Shawshank Redemption  ...                         Drama    9.3\n",
              "2     3.          Schindler's List  ...     Biography, Drama, History    8.9\n",
              "3     4.               Raging Bull  ...       Biography, Drama, Sport    8.2\n",
              "4     5.                Casablanca  ...           Drama, Romance, War    8.5\n",
              "..   ...                       ...  ...                           ...    ...\n",
              "95   96.               Rear Window  ...             Mystery, Thriller    8.5\n",
              "96   97.             The Third Man  ...  Film-Noir, Mystery, Thriller    8.1\n",
              "97   98.     Rebel Without a Cause  ...                         Drama    7.7\n",
              "98   99.        North by Northwest  ...  Adventure, Mystery, Thriller    8.3\n",
              "99  100.       Yankee Doodle Dandy  ...       Biography, Drama, Music    7.7\n",
              "\n",
              "[100 rows x 7 columns]"
            ]
          },
          "metadata": {},
          "execution_count": 59
        }
      ]
    }
  ]
}